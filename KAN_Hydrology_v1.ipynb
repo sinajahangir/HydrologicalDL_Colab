{
  "cells": [
    {
      "cell_type": "markdown",
      "metadata": {
        "id": "view-in-github",
        "colab_type": "text"
      },
      "source": [
        "<a href=\"https://colab.research.google.com/github/sinajahangir/HydrologicalDL_Colab/blob/main/KAN_Hydrology_v1.ipynb\" target=\"_parent\"><img src=\"https://colab.research.google.com/assets/colab-badge.svg\" alt=\"Open In Colab\"/></a>"
      ]
    },
    {
      "cell_type": "markdown",
      "source": [
        "#Import libraries and read data"
      ],
      "metadata": {
        "id": "gKIs35un8lBC"
      }
    },
    {
      "cell_type": "code",
      "execution_count": 1,
      "metadata": {
        "id": "QxAZHMj8K366",
        "colab": {
          "base_uri": "https://localhost:8080/"
        },
        "outputId": "d3309605-04c2-4f6e-e3c4-97ce13b3e365"
      },
      "outputs": [
        {
          "output_type": "stream",
          "name": "stdout",
          "text": [
            "Requirement already satisfied: tfkan in /usr/local/lib/python3.10/dist-packages (0.1.1)\n",
            "Requirement already satisfied: tensorflow<=2.15.1,>=2.10.0 in /usr/local/lib/python3.10/dist-packages (from tfkan) (2.15.1)\n",
            "Requirement already satisfied: keras<=2.15.1 in /usr/local/lib/python3.10/dist-packages (from tfkan) (2.15.0)\n",
            "Requirement already satisfied: absl-py>=1.0.0 in /usr/local/lib/python3.10/dist-packages (from tensorflow<=2.15.1,>=2.10.0->tfkan) (1.4.0)\n",
            "Requirement already satisfied: astunparse>=1.6.0 in /usr/local/lib/python3.10/dist-packages (from tensorflow<=2.15.1,>=2.10.0->tfkan) (1.6.3)\n",
            "Requirement already satisfied: flatbuffers>=23.5.26 in /usr/local/lib/python3.10/dist-packages (from tensorflow<=2.15.1,>=2.10.0->tfkan) (24.3.25)\n",
            "Requirement already satisfied: gast!=0.5.0,!=0.5.1,!=0.5.2,>=0.2.1 in /usr/local/lib/python3.10/dist-packages (from tensorflow<=2.15.1,>=2.10.0->tfkan) (0.6.0)\n",
            "Requirement already satisfied: google-pasta>=0.1.1 in /usr/local/lib/python3.10/dist-packages (from tensorflow<=2.15.1,>=2.10.0->tfkan) (0.2.0)\n",
            "Requirement already satisfied: h5py>=2.9.0 in /usr/local/lib/python3.10/dist-packages (from tensorflow<=2.15.1,>=2.10.0->tfkan) (3.12.1)\n",
            "Requirement already satisfied: libclang>=13.0.0 in /usr/local/lib/python3.10/dist-packages (from tensorflow<=2.15.1,>=2.10.0->tfkan) (18.1.1)\n",
            "Requirement already satisfied: ml-dtypes~=0.3.1 in /usr/local/lib/python3.10/dist-packages (from tensorflow<=2.15.1,>=2.10.0->tfkan) (0.3.2)\n",
            "Requirement already satisfied: numpy<2.0.0,>=1.23.5 in /usr/local/lib/python3.10/dist-packages (from tensorflow<=2.15.1,>=2.10.0->tfkan) (1.26.4)\n",
            "Requirement already satisfied: opt-einsum>=2.3.2 in /usr/local/lib/python3.10/dist-packages (from tensorflow<=2.15.1,>=2.10.0->tfkan) (3.4.0)\n",
            "Requirement already satisfied: packaging in /usr/local/lib/python3.10/dist-packages (from tensorflow<=2.15.1,>=2.10.0->tfkan) (24.1)\n",
            "Requirement already satisfied: protobuf!=4.21.0,!=4.21.1,!=4.21.2,!=4.21.3,!=4.21.4,!=4.21.5,<5.0.0dev,>=3.20.3 in /usr/local/lib/python3.10/dist-packages (from tensorflow<=2.15.1,>=2.10.0->tfkan) (3.20.3)\n",
            "Requirement already satisfied: setuptools in /usr/local/lib/python3.10/dist-packages (from tensorflow<=2.15.1,>=2.10.0->tfkan) (75.1.0)\n",
            "Requirement already satisfied: six>=1.12.0 in /usr/local/lib/python3.10/dist-packages (from tensorflow<=2.15.1,>=2.10.0->tfkan) (1.16.0)\n",
            "Requirement already satisfied: termcolor>=1.1.0 in /usr/local/lib/python3.10/dist-packages (from tensorflow<=2.15.1,>=2.10.0->tfkan) (2.5.0)\n",
            "Requirement already satisfied: typing-extensions>=3.6.6 in /usr/local/lib/python3.10/dist-packages (from tensorflow<=2.15.1,>=2.10.0->tfkan) (4.12.2)\n",
            "Requirement already satisfied: wrapt<1.15,>=1.11.0 in /usr/local/lib/python3.10/dist-packages (from tensorflow<=2.15.1,>=2.10.0->tfkan) (1.14.1)\n",
            "Requirement already satisfied: tensorflow-io-gcs-filesystem>=0.23.1 in /usr/local/lib/python3.10/dist-packages (from tensorflow<=2.15.1,>=2.10.0->tfkan) (0.37.1)\n",
            "Requirement already satisfied: grpcio<2.0,>=1.24.3 in /usr/local/lib/python3.10/dist-packages (from tensorflow<=2.15.1,>=2.10.0->tfkan) (1.64.1)\n",
            "Requirement already satisfied: tensorboard<2.16,>=2.15 in /usr/local/lib/python3.10/dist-packages (from tensorflow<=2.15.1,>=2.10.0->tfkan) (2.15.2)\n",
            "Requirement already satisfied: tensorflow-estimator<2.16,>=2.15.0 in /usr/local/lib/python3.10/dist-packages (from tensorflow<=2.15.1,>=2.10.0->tfkan) (2.15.0)\n",
            "Requirement already satisfied: wheel<1.0,>=0.23.0 in /usr/local/lib/python3.10/dist-packages (from astunparse>=1.6.0->tensorflow<=2.15.1,>=2.10.0->tfkan) (0.44.0)\n",
            "Requirement already satisfied: google-auth<3,>=1.6.3 in /usr/local/lib/python3.10/dist-packages (from tensorboard<2.16,>=2.15->tensorflow<=2.15.1,>=2.10.0->tfkan) (2.27.0)\n",
            "Requirement already satisfied: google-auth-oauthlib<2,>=0.5 in /usr/local/lib/python3.10/dist-packages (from tensorboard<2.16,>=2.15->tensorflow<=2.15.1,>=2.10.0->tfkan) (1.2.1)\n",
            "Requirement already satisfied: markdown>=2.6.8 in /usr/local/lib/python3.10/dist-packages (from tensorboard<2.16,>=2.15->tensorflow<=2.15.1,>=2.10.0->tfkan) (3.7)\n",
            "Requirement already satisfied: requests<3,>=2.21.0 in /usr/local/lib/python3.10/dist-packages (from tensorboard<2.16,>=2.15->tensorflow<=2.15.1,>=2.10.0->tfkan) (2.32.3)\n",
            "Requirement already satisfied: tensorboard-data-server<0.8.0,>=0.7.0 in /usr/local/lib/python3.10/dist-packages (from tensorboard<2.16,>=2.15->tensorflow<=2.15.1,>=2.10.0->tfkan) (0.7.2)\n",
            "Requirement already satisfied: werkzeug>=1.0.1 in /usr/local/lib/python3.10/dist-packages (from tensorboard<2.16,>=2.15->tensorflow<=2.15.1,>=2.10.0->tfkan) (3.0.6)\n",
            "Requirement already satisfied: cachetools<6.0,>=2.0.0 in /usr/local/lib/python3.10/dist-packages (from google-auth<3,>=1.6.3->tensorboard<2.16,>=2.15->tensorflow<=2.15.1,>=2.10.0->tfkan) (5.5.0)\n",
            "Requirement already satisfied: pyasn1-modules>=0.2.1 in /usr/local/lib/python3.10/dist-packages (from google-auth<3,>=1.6.3->tensorboard<2.16,>=2.15->tensorflow<=2.15.1,>=2.10.0->tfkan) (0.4.1)\n",
            "Requirement already satisfied: rsa<5,>=3.1.4 in /usr/local/lib/python3.10/dist-packages (from google-auth<3,>=1.6.3->tensorboard<2.16,>=2.15->tensorflow<=2.15.1,>=2.10.0->tfkan) (4.9)\n",
            "Requirement already satisfied: requests-oauthlib>=0.7.0 in /usr/local/lib/python3.10/dist-packages (from google-auth-oauthlib<2,>=0.5->tensorboard<2.16,>=2.15->tensorflow<=2.15.1,>=2.10.0->tfkan) (1.3.1)\n",
            "Requirement already satisfied: charset-normalizer<4,>=2 in /usr/local/lib/python3.10/dist-packages (from requests<3,>=2.21.0->tensorboard<2.16,>=2.15->tensorflow<=2.15.1,>=2.10.0->tfkan) (3.4.0)\n",
            "Requirement already satisfied: idna<4,>=2.5 in /usr/local/lib/python3.10/dist-packages (from requests<3,>=2.21.0->tensorboard<2.16,>=2.15->tensorflow<=2.15.1,>=2.10.0->tfkan) (3.10)\n",
            "Requirement already satisfied: urllib3<3,>=1.21.1 in /usr/local/lib/python3.10/dist-packages (from requests<3,>=2.21.0->tensorboard<2.16,>=2.15->tensorflow<=2.15.1,>=2.10.0->tfkan) (2.2.3)\n",
            "Requirement already satisfied: certifi>=2017.4.17 in /usr/local/lib/python3.10/dist-packages (from requests<3,>=2.21.0->tensorboard<2.16,>=2.15->tensorflow<=2.15.1,>=2.10.0->tfkan) (2024.8.30)\n",
            "Requirement already satisfied: MarkupSafe>=2.1.1 in /usr/local/lib/python3.10/dist-packages (from werkzeug>=1.0.1->tensorboard<2.16,>=2.15->tensorflow<=2.15.1,>=2.10.0->tfkan) (3.0.2)\n",
            "Requirement already satisfied: pyasn1<0.7.0,>=0.4.6 in /usr/local/lib/python3.10/dist-packages (from pyasn1-modules>=0.2.1->google-auth<3,>=1.6.3->tensorboard<2.16,>=2.15->tensorflow<=2.15.1,>=2.10.0->tfkan) (0.6.1)\n",
            "Requirement already satisfied: oauthlib>=3.0.0 in /usr/local/lib/python3.10/dist-packages (from requests-oauthlib>=0.7.0->google-auth-oauthlib<2,>=0.5->tensorboard<2.16,>=2.15->tensorflow<=2.15.1,>=2.10.0->tfkan) (3.2.2)\n",
            "Requirement already satisfied: tf_keras==2.15 in /usr/local/lib/python3.10/dist-packages (2.15.0)\n",
            "Requirement already satisfied: tensorflow_probability==0.23.0 in /usr/local/lib/python3.10/dist-packages (0.23.0)\n",
            "Requirement already satisfied: absl-py in /usr/local/lib/python3.10/dist-packages (from tensorflow_probability==0.23.0) (1.4.0)\n",
            "Requirement already satisfied: six>=1.10.0 in /usr/local/lib/python3.10/dist-packages (from tensorflow_probability==0.23.0) (1.16.0)\n",
            "Requirement already satisfied: numpy>=1.13.3 in /usr/local/lib/python3.10/dist-packages (from tensorflow_probability==0.23.0) (1.26.4)\n",
            "Requirement already satisfied: decorator in /usr/local/lib/python3.10/dist-packages (from tensorflow_probability==0.23.0) (4.4.2)\n",
            "Requirement already satisfied: cloudpickle>=1.3 in /usr/local/lib/python3.10/dist-packages (from tensorflow_probability==0.23.0) (3.1.0)\n",
            "Requirement already satisfied: gast>=0.3.2 in /usr/local/lib/python3.10/dist-packages (from tensorflow_probability==0.23.0) (0.6.0)\n",
            "Requirement already satisfied: dm-tree in /usr/local/lib/python3.10/dist-packages (from tensorflow_probability==0.23.0) (0.1.8)\n"
          ]
        }
      ],
      "source": [
        "#import necessary libraries\n",
        "import numpy as np\n",
        "#for plotting\n",
        "import matplotlib.pyplot as plt\n",
        "#KAN netwrok\n",
        "!pip install tfkan\n",
        "!pip install tf_keras==2.15\n",
        "!pip install tensorflow_probability==0.23.0\n",
        "import tensorflow_probability as tfp\n",
        "import os\n",
        "import tfkan\n",
        "import tensorflow as tf\n",
        "#reading csv files\n",
        "import pandas as pd"
      ]
    },
    {
      "cell_type": "code",
      "execution_count": 2,
      "metadata": {
        "colab": {
          "base_uri": "https://localhost:8080/"
        },
        "id": "aZtQ3BGuK_61",
        "outputId": "5d96055c-76a2-40c5-e96d-a28973e96253"
      },
      "outputs": [
        {
          "output_type": "stream",
          "name": "stdout",
          "text": [
            "Drive already mounted at /content/drive; to attempt to forcibly remount, call drive.mount(\"/content/drive\", force_remount=True).\n"
          ]
        }
      ],
      "source": [
        "#Mount Google Drive\n",
        "from google.colab import drive\n",
        "drive.mount('/content/drive')"
      ]
    },
    {
      "cell_type": "code",
      "execution_count": 3,
      "metadata": {
        "id": "x4Ic7pvRLDFw"
      },
      "outputs": [],
      "source": [
        "#Change directory to where input data is saved\n",
        "os.chdir('/content/drive/MyDrive/CARD_Hydrology')"
      ]
    },
    {
      "cell_type": "code",
      "execution_count": 4,
      "metadata": {
        "id": "SYHooUc7zwbZ"
      },
      "outputs": [],
      "source": [
        "#change path\n",
        "#train data\n",
        "csv_path='CamelsRegionaltrain_0_camels_01022500.csv'\n",
        "df = pd.read_csv(csv_path)\n",
        "df=df.dropna()\n",
        "#change path\n",
        "#test data\n",
        "csv_path_test='CamelsRegionaltest_0_camels_01022500.csv'\n",
        "df_test = pd.read_csv(csv_path_test)\n",
        "\n",
        "mean_=np.asarray(df.iloc[:,1:].mean())\n",
        "std_=np.asarray(df.iloc[:,1:].std())\n",
        "\n",
        "#transfrom data\n",
        "df_test_tr=df_test.iloc[:,1:]-mean_\n",
        "df_test_tr=df_test_tr/(std_)\n",
        "df_test_tr=df_test_tr.drop(columns=['basin_id'])\n",
        "df_test_tr['basin_id'] = df_test['basin_id']\n",
        "mean_q=df['q'].mean()\n",
        "std_q=df['q'].std()\n",
        "df_tr = df.iloc[:,1:].apply(lambda x: (x-x.mean())/(x.std()), axis=0)"
      ]
    },
    {
      "cell_type": "code",
      "source": [
        "#print transformed test data\n",
        "df_test_tr"
      ],
      "metadata": {
        "colab": {
          "base_uri": "https://localhost:8080/",
          "height": 423
        },
        "id": "hba5ENQehlhE",
        "outputId": "8ea55978-3922-466c-dcdf-070572ed16f5"
      },
      "execution_count": 5,
      "outputs": [
        {
          "output_type": "execute_result",
          "data": {
            "text/plain": [
              "            pr      srad      tmax      tmin        vp         q  average_pr  \\\n",
              "0    -0.473552 -1.064105 -1.159628 -1.000030 -1.014460 -0.111022    0.000729   \n",
              "1    -0.473552 -1.070815 -0.673509 -0.507607 -0.712332 -0.174008    0.000729   \n",
              "2     2.399008 -1.552969 -0.363989  0.005664 -0.300331  0.275288    0.000729   \n",
              "3    -0.473552 -0.968504 -0.517799 -0.509593 -0.732651  0.628006    0.000729   \n",
              "4    -0.457161 -0.926131 -0.896630 -0.956347 -0.998872  0.502035    0.000729   \n",
              "...        ...       ...       ...       ...       ...       ...         ...   \n",
              "1508 -0.473552 -0.638121 -1.121650 -1.384239 -1.172488 -0.299978    0.000729   \n",
              "1509 -0.473552 -1.166944 -1.590678 -1.265105 -1.115442 -0.350367    0.000729   \n",
              "1510  0.519482 -1.309215 -0.976384 -0.793530 -0.900348 -0.299978    0.000729   \n",
              "1511 -0.133434 -1.048423 -0.797887 -0.828278 -0.921199 -0.249590    0.000729   \n",
              "1512 -0.473552 -0.537317 -1.760630 -2.070256 -1.388116 -0.346168    0.000729   \n",
              "\n",
              "      average_q  average_tmax  average_tmin  basin_id  \n",
              "0     -0.003809      0.006756      0.002457         0  \n",
              "1     -0.003809      0.006756      0.002457         0  \n",
              "2     -0.003809      0.006756      0.002457         0  \n",
              "3     -0.003809      0.006756      0.002457         0  \n",
              "4     -0.003809      0.006756      0.002457         0  \n",
              "...         ...           ...           ...       ...  \n",
              "1508  -0.003809      0.006756      0.002457         0  \n",
              "1509  -0.003809      0.006756      0.002457         0  \n",
              "1510  -0.003809      0.006756      0.002457         0  \n",
              "1511  -0.003809      0.006756      0.002457         0  \n",
              "1512  -0.003809      0.006756      0.002457         0  \n",
              "\n",
              "[1513 rows x 11 columns]"
            ],
            "text/html": [
              "\n",
              "  <div id=\"df-89fce216-be9e-43c7-b125-6c6da5b17601\" class=\"colab-df-container\">\n",
              "    <div>\n",
              "<style scoped>\n",
              "    .dataframe tbody tr th:only-of-type {\n",
              "        vertical-align: middle;\n",
              "    }\n",
              "\n",
              "    .dataframe tbody tr th {\n",
              "        vertical-align: top;\n",
              "    }\n",
              "\n",
              "    .dataframe thead th {\n",
              "        text-align: right;\n",
              "    }\n",
              "</style>\n",
              "<table border=\"1\" class=\"dataframe\">\n",
              "  <thead>\n",
              "    <tr style=\"text-align: right;\">\n",
              "      <th></th>\n",
              "      <th>pr</th>\n",
              "      <th>srad</th>\n",
              "      <th>tmax</th>\n",
              "      <th>tmin</th>\n",
              "      <th>vp</th>\n",
              "      <th>q</th>\n",
              "      <th>average_pr</th>\n",
              "      <th>average_q</th>\n",
              "      <th>average_tmax</th>\n",
              "      <th>average_tmin</th>\n",
              "      <th>basin_id</th>\n",
              "    </tr>\n",
              "  </thead>\n",
              "  <tbody>\n",
              "    <tr>\n",
              "      <th>0</th>\n",
              "      <td>-0.473552</td>\n",
              "      <td>-1.064105</td>\n",
              "      <td>-1.159628</td>\n",
              "      <td>-1.000030</td>\n",
              "      <td>-1.014460</td>\n",
              "      <td>-0.111022</td>\n",
              "      <td>0.000729</td>\n",
              "      <td>-0.003809</td>\n",
              "      <td>0.006756</td>\n",
              "      <td>0.002457</td>\n",
              "      <td>0</td>\n",
              "    </tr>\n",
              "    <tr>\n",
              "      <th>1</th>\n",
              "      <td>-0.473552</td>\n",
              "      <td>-1.070815</td>\n",
              "      <td>-0.673509</td>\n",
              "      <td>-0.507607</td>\n",
              "      <td>-0.712332</td>\n",
              "      <td>-0.174008</td>\n",
              "      <td>0.000729</td>\n",
              "      <td>-0.003809</td>\n",
              "      <td>0.006756</td>\n",
              "      <td>0.002457</td>\n",
              "      <td>0</td>\n",
              "    </tr>\n",
              "    <tr>\n",
              "      <th>2</th>\n",
              "      <td>2.399008</td>\n",
              "      <td>-1.552969</td>\n",
              "      <td>-0.363989</td>\n",
              "      <td>0.005664</td>\n",
              "      <td>-0.300331</td>\n",
              "      <td>0.275288</td>\n",
              "      <td>0.000729</td>\n",
              "      <td>-0.003809</td>\n",
              "      <td>0.006756</td>\n",
              "      <td>0.002457</td>\n",
              "      <td>0</td>\n",
              "    </tr>\n",
              "    <tr>\n",
              "      <th>3</th>\n",
              "      <td>-0.473552</td>\n",
              "      <td>-0.968504</td>\n",
              "      <td>-0.517799</td>\n",
              "      <td>-0.509593</td>\n",
              "      <td>-0.732651</td>\n",
              "      <td>0.628006</td>\n",
              "      <td>0.000729</td>\n",
              "      <td>-0.003809</td>\n",
              "      <td>0.006756</td>\n",
              "      <td>0.002457</td>\n",
              "      <td>0</td>\n",
              "    </tr>\n",
              "    <tr>\n",
              "      <th>4</th>\n",
              "      <td>-0.457161</td>\n",
              "      <td>-0.926131</td>\n",
              "      <td>-0.896630</td>\n",
              "      <td>-0.956347</td>\n",
              "      <td>-0.998872</td>\n",
              "      <td>0.502035</td>\n",
              "      <td>0.000729</td>\n",
              "      <td>-0.003809</td>\n",
              "      <td>0.006756</td>\n",
              "      <td>0.002457</td>\n",
              "      <td>0</td>\n",
              "    </tr>\n",
              "    <tr>\n",
              "      <th>...</th>\n",
              "      <td>...</td>\n",
              "      <td>...</td>\n",
              "      <td>...</td>\n",
              "      <td>...</td>\n",
              "      <td>...</td>\n",
              "      <td>...</td>\n",
              "      <td>...</td>\n",
              "      <td>...</td>\n",
              "      <td>...</td>\n",
              "      <td>...</td>\n",
              "      <td>...</td>\n",
              "    </tr>\n",
              "    <tr>\n",
              "      <th>1508</th>\n",
              "      <td>-0.473552</td>\n",
              "      <td>-0.638121</td>\n",
              "      <td>-1.121650</td>\n",
              "      <td>-1.384239</td>\n",
              "      <td>-1.172488</td>\n",
              "      <td>-0.299978</td>\n",
              "      <td>0.000729</td>\n",
              "      <td>-0.003809</td>\n",
              "      <td>0.006756</td>\n",
              "      <td>0.002457</td>\n",
              "      <td>0</td>\n",
              "    </tr>\n",
              "    <tr>\n",
              "      <th>1509</th>\n",
              "      <td>-0.473552</td>\n",
              "      <td>-1.166944</td>\n",
              "      <td>-1.590678</td>\n",
              "      <td>-1.265105</td>\n",
              "      <td>-1.115442</td>\n",
              "      <td>-0.350367</td>\n",
              "      <td>0.000729</td>\n",
              "      <td>-0.003809</td>\n",
              "      <td>0.006756</td>\n",
              "      <td>0.002457</td>\n",
              "      <td>0</td>\n",
              "    </tr>\n",
              "    <tr>\n",
              "      <th>1510</th>\n",
              "      <td>0.519482</td>\n",
              "      <td>-1.309215</td>\n",
              "      <td>-0.976384</td>\n",
              "      <td>-0.793530</td>\n",
              "      <td>-0.900348</td>\n",
              "      <td>-0.299978</td>\n",
              "      <td>0.000729</td>\n",
              "      <td>-0.003809</td>\n",
              "      <td>0.006756</td>\n",
              "      <td>0.002457</td>\n",
              "      <td>0</td>\n",
              "    </tr>\n",
              "    <tr>\n",
              "      <th>1511</th>\n",
              "      <td>-0.133434</td>\n",
              "      <td>-1.048423</td>\n",
              "      <td>-0.797887</td>\n",
              "      <td>-0.828278</td>\n",
              "      <td>-0.921199</td>\n",
              "      <td>-0.249590</td>\n",
              "      <td>0.000729</td>\n",
              "      <td>-0.003809</td>\n",
              "      <td>0.006756</td>\n",
              "      <td>0.002457</td>\n",
              "      <td>0</td>\n",
              "    </tr>\n",
              "    <tr>\n",
              "      <th>1512</th>\n",
              "      <td>-0.473552</td>\n",
              "      <td>-0.537317</td>\n",
              "      <td>-1.760630</td>\n",
              "      <td>-2.070256</td>\n",
              "      <td>-1.388116</td>\n",
              "      <td>-0.346168</td>\n",
              "      <td>0.000729</td>\n",
              "      <td>-0.003809</td>\n",
              "      <td>0.006756</td>\n",
              "      <td>0.002457</td>\n",
              "      <td>0</td>\n",
              "    </tr>\n",
              "  </tbody>\n",
              "</table>\n",
              "<p>1513 rows × 11 columns</p>\n",
              "</div>\n",
              "    <div class=\"colab-df-buttons\">\n",
              "\n",
              "  <div class=\"colab-df-container\">\n",
              "    <button class=\"colab-df-convert\" onclick=\"convertToInteractive('df-89fce216-be9e-43c7-b125-6c6da5b17601')\"\n",
              "            title=\"Convert this dataframe to an interactive table.\"\n",
              "            style=\"display:none;\">\n",
              "\n",
              "  <svg xmlns=\"http://www.w3.org/2000/svg\" height=\"24px\" viewBox=\"0 -960 960 960\">\n",
              "    <path d=\"M120-120v-720h720v720H120Zm60-500h600v-160H180v160Zm220 220h160v-160H400v160Zm0 220h160v-160H400v160ZM180-400h160v-160H180v160Zm440 0h160v-160H620v160ZM180-180h160v-160H180v160Zm440 0h160v-160H620v160Z\"/>\n",
              "  </svg>\n",
              "    </button>\n",
              "\n",
              "  <style>\n",
              "    .colab-df-container {\n",
              "      display:flex;\n",
              "      gap: 12px;\n",
              "    }\n",
              "\n",
              "    .colab-df-convert {\n",
              "      background-color: #E8F0FE;\n",
              "      border: none;\n",
              "      border-radius: 50%;\n",
              "      cursor: pointer;\n",
              "      display: none;\n",
              "      fill: #1967D2;\n",
              "      height: 32px;\n",
              "      padding: 0 0 0 0;\n",
              "      width: 32px;\n",
              "    }\n",
              "\n",
              "    .colab-df-convert:hover {\n",
              "      background-color: #E2EBFA;\n",
              "      box-shadow: 0px 1px 2px rgba(60, 64, 67, 0.3), 0px 1px 3px 1px rgba(60, 64, 67, 0.15);\n",
              "      fill: #174EA6;\n",
              "    }\n",
              "\n",
              "    .colab-df-buttons div {\n",
              "      margin-bottom: 4px;\n",
              "    }\n",
              "\n",
              "    [theme=dark] .colab-df-convert {\n",
              "      background-color: #3B4455;\n",
              "      fill: #D2E3FC;\n",
              "    }\n",
              "\n",
              "    [theme=dark] .colab-df-convert:hover {\n",
              "      background-color: #434B5C;\n",
              "      box-shadow: 0px 1px 3px 1px rgba(0, 0, 0, 0.15);\n",
              "      filter: drop-shadow(0px 1px 2px rgba(0, 0, 0, 0.3));\n",
              "      fill: #FFFFFF;\n",
              "    }\n",
              "  </style>\n",
              "\n",
              "    <script>\n",
              "      const buttonEl =\n",
              "        document.querySelector('#df-89fce216-be9e-43c7-b125-6c6da5b17601 button.colab-df-convert');\n",
              "      buttonEl.style.display =\n",
              "        google.colab.kernel.accessAllowed ? 'block' : 'none';\n",
              "\n",
              "      async function convertToInteractive(key) {\n",
              "        const element = document.querySelector('#df-89fce216-be9e-43c7-b125-6c6da5b17601');\n",
              "        const dataTable =\n",
              "          await google.colab.kernel.invokeFunction('convertToInteractive',\n",
              "                                                    [key], {});\n",
              "        if (!dataTable) return;\n",
              "\n",
              "        const docLinkHtml = 'Like what you see? Visit the ' +\n",
              "          '<a target=\"_blank\" href=https://colab.research.google.com/notebooks/data_table.ipynb>data table notebook</a>'\n",
              "          + ' to learn more about interactive tables.';\n",
              "        element.innerHTML = '';\n",
              "        dataTable['output_type'] = 'display_data';\n",
              "        await google.colab.output.renderOutput(dataTable, element);\n",
              "        const docLink = document.createElement('div');\n",
              "        docLink.innerHTML = docLinkHtml;\n",
              "        element.appendChild(docLink);\n",
              "      }\n",
              "    </script>\n",
              "  </div>\n",
              "\n",
              "\n",
              "<div id=\"df-4c924a4f-a8d8-4841-975e-77d39feb3613\">\n",
              "  <button class=\"colab-df-quickchart\" onclick=\"quickchart('df-4c924a4f-a8d8-4841-975e-77d39feb3613')\"\n",
              "            title=\"Suggest charts\"\n",
              "            style=\"display:none;\">\n",
              "\n",
              "<svg xmlns=\"http://www.w3.org/2000/svg\" height=\"24px\"viewBox=\"0 0 24 24\"\n",
              "     width=\"24px\">\n",
              "    <g>\n",
              "        <path d=\"M19 3H5c-1.1 0-2 .9-2 2v14c0 1.1.9 2 2 2h14c1.1 0 2-.9 2-2V5c0-1.1-.9-2-2-2zM9 17H7v-7h2v7zm4 0h-2V7h2v10zm4 0h-2v-4h2v4z\"/>\n",
              "    </g>\n",
              "</svg>\n",
              "  </button>\n",
              "\n",
              "<style>\n",
              "  .colab-df-quickchart {\n",
              "      --bg-color: #E8F0FE;\n",
              "      --fill-color: #1967D2;\n",
              "      --hover-bg-color: #E2EBFA;\n",
              "      --hover-fill-color: #174EA6;\n",
              "      --disabled-fill-color: #AAA;\n",
              "      --disabled-bg-color: #DDD;\n",
              "  }\n",
              "\n",
              "  [theme=dark] .colab-df-quickchart {\n",
              "      --bg-color: #3B4455;\n",
              "      --fill-color: #D2E3FC;\n",
              "      --hover-bg-color: #434B5C;\n",
              "      --hover-fill-color: #FFFFFF;\n",
              "      --disabled-bg-color: #3B4455;\n",
              "      --disabled-fill-color: #666;\n",
              "  }\n",
              "\n",
              "  .colab-df-quickchart {\n",
              "    background-color: var(--bg-color);\n",
              "    border: none;\n",
              "    border-radius: 50%;\n",
              "    cursor: pointer;\n",
              "    display: none;\n",
              "    fill: var(--fill-color);\n",
              "    height: 32px;\n",
              "    padding: 0;\n",
              "    width: 32px;\n",
              "  }\n",
              "\n",
              "  .colab-df-quickchart:hover {\n",
              "    background-color: var(--hover-bg-color);\n",
              "    box-shadow: 0 1px 2px rgba(60, 64, 67, 0.3), 0 1px 3px 1px rgba(60, 64, 67, 0.15);\n",
              "    fill: var(--button-hover-fill-color);\n",
              "  }\n",
              "\n",
              "  .colab-df-quickchart-complete:disabled,\n",
              "  .colab-df-quickchart-complete:disabled:hover {\n",
              "    background-color: var(--disabled-bg-color);\n",
              "    fill: var(--disabled-fill-color);\n",
              "    box-shadow: none;\n",
              "  }\n",
              "\n",
              "  .colab-df-spinner {\n",
              "    border: 2px solid var(--fill-color);\n",
              "    border-color: transparent;\n",
              "    border-bottom-color: var(--fill-color);\n",
              "    animation:\n",
              "      spin 1s steps(1) infinite;\n",
              "  }\n",
              "\n",
              "  @keyframes spin {\n",
              "    0% {\n",
              "      border-color: transparent;\n",
              "      border-bottom-color: var(--fill-color);\n",
              "      border-left-color: var(--fill-color);\n",
              "    }\n",
              "    20% {\n",
              "      border-color: transparent;\n",
              "      border-left-color: var(--fill-color);\n",
              "      border-top-color: var(--fill-color);\n",
              "    }\n",
              "    30% {\n",
              "      border-color: transparent;\n",
              "      border-left-color: var(--fill-color);\n",
              "      border-top-color: var(--fill-color);\n",
              "      border-right-color: var(--fill-color);\n",
              "    }\n",
              "    40% {\n",
              "      border-color: transparent;\n",
              "      border-right-color: var(--fill-color);\n",
              "      border-top-color: var(--fill-color);\n",
              "    }\n",
              "    60% {\n",
              "      border-color: transparent;\n",
              "      border-right-color: var(--fill-color);\n",
              "    }\n",
              "    80% {\n",
              "      border-color: transparent;\n",
              "      border-right-color: var(--fill-color);\n",
              "      border-bottom-color: var(--fill-color);\n",
              "    }\n",
              "    90% {\n",
              "      border-color: transparent;\n",
              "      border-bottom-color: var(--fill-color);\n",
              "    }\n",
              "  }\n",
              "</style>\n",
              "\n",
              "  <script>\n",
              "    async function quickchart(key) {\n",
              "      const quickchartButtonEl =\n",
              "        document.querySelector('#' + key + ' button');\n",
              "      quickchartButtonEl.disabled = true;  // To prevent multiple clicks.\n",
              "      quickchartButtonEl.classList.add('colab-df-spinner');\n",
              "      try {\n",
              "        const charts = await google.colab.kernel.invokeFunction(\n",
              "            'suggestCharts', [key], {});\n",
              "      } catch (error) {\n",
              "        console.error('Error during call to suggestCharts:', error);\n",
              "      }\n",
              "      quickchartButtonEl.classList.remove('colab-df-spinner');\n",
              "      quickchartButtonEl.classList.add('colab-df-quickchart-complete');\n",
              "    }\n",
              "    (() => {\n",
              "      let quickchartButtonEl =\n",
              "        document.querySelector('#df-4c924a4f-a8d8-4841-975e-77d39feb3613 button');\n",
              "      quickchartButtonEl.style.display =\n",
              "        google.colab.kernel.accessAllowed ? 'block' : 'none';\n",
              "    })();\n",
              "  </script>\n",
              "</div>\n",
              "\n",
              "  <div id=\"id_aa0ddedd-4d37-4853-a368-cd5b5418a5e9\">\n",
              "    <style>\n",
              "      .colab-df-generate {\n",
              "        background-color: #E8F0FE;\n",
              "        border: none;\n",
              "        border-radius: 50%;\n",
              "        cursor: pointer;\n",
              "        display: none;\n",
              "        fill: #1967D2;\n",
              "        height: 32px;\n",
              "        padding: 0 0 0 0;\n",
              "        width: 32px;\n",
              "      }\n",
              "\n",
              "      .colab-df-generate:hover {\n",
              "        background-color: #E2EBFA;\n",
              "        box-shadow: 0px 1px 2px rgba(60, 64, 67, 0.3), 0px 1px 3px 1px rgba(60, 64, 67, 0.15);\n",
              "        fill: #174EA6;\n",
              "      }\n",
              "\n",
              "      [theme=dark] .colab-df-generate {\n",
              "        background-color: #3B4455;\n",
              "        fill: #D2E3FC;\n",
              "      }\n",
              "\n",
              "      [theme=dark] .colab-df-generate:hover {\n",
              "        background-color: #434B5C;\n",
              "        box-shadow: 0px 1px 3px 1px rgba(0, 0, 0, 0.15);\n",
              "        filter: drop-shadow(0px 1px 2px rgba(0, 0, 0, 0.3));\n",
              "        fill: #FFFFFF;\n",
              "      }\n",
              "    </style>\n",
              "    <button class=\"colab-df-generate\" onclick=\"generateWithVariable('df_test_tr')\"\n",
              "            title=\"Generate code using this dataframe.\"\n",
              "            style=\"display:none;\">\n",
              "\n",
              "  <svg xmlns=\"http://www.w3.org/2000/svg\" height=\"24px\"viewBox=\"0 0 24 24\"\n",
              "       width=\"24px\">\n",
              "    <path d=\"M7,19H8.4L18.45,9,17,7.55,7,17.6ZM5,21V16.75L18.45,3.32a2,2,0,0,1,2.83,0l1.4,1.43a1.91,1.91,0,0,1,.58,1.4,1.91,1.91,0,0,1-.58,1.4L9.25,21ZM18.45,9,17,7.55Zm-12,3A5.31,5.31,0,0,0,4.9,8.1,5.31,5.31,0,0,0,1,6.5,5.31,5.31,0,0,0,4.9,4.9,5.31,5.31,0,0,0,6.5,1,5.31,5.31,0,0,0,8.1,4.9,5.31,5.31,0,0,0,12,6.5,5.46,5.46,0,0,0,6.5,12Z\"/>\n",
              "  </svg>\n",
              "    </button>\n",
              "    <script>\n",
              "      (() => {\n",
              "      const buttonEl =\n",
              "        document.querySelector('#id_aa0ddedd-4d37-4853-a368-cd5b5418a5e9 button.colab-df-generate');\n",
              "      buttonEl.style.display =\n",
              "        google.colab.kernel.accessAllowed ? 'block' : 'none';\n",
              "\n",
              "      buttonEl.onclick = () => {\n",
              "        google.colab.notebook.generateWithVariable('df_test_tr');\n",
              "      }\n",
              "      })();\n",
              "    </script>\n",
              "  </div>\n",
              "\n",
              "    </div>\n",
              "  </div>\n"
            ],
            "application/vnd.google.colaboratory.intrinsic+json": {
              "type": "dataframe",
              "variable_name": "df_test_tr",
              "summary": "{\n  \"name\": \"df_test_tr\",\n  \"rows\": 1513,\n  \"fields\": [\n    {\n      \"column\": \"pr\",\n      \"properties\": {\n        \"dtype\": \"number\",\n        \"std\": 1.1149968110201596,\n        \"min\": -0.47355185861232185,\n        \"max\": 11.696923496186272,\n        \"num_unique_values\": 545,\n        \"samples\": [\n          -0.16485068799677952,\n          -0.3902298612337905,\n          -0.2331474071595101\n        ],\n        \"semantic_type\": \"\",\n        \"description\": \"\"\n      }\n    },\n    {\n      \"column\": \"srad\",\n      \"properties\": {\n        \"dtype\": \"number\",\n        \"std\": 1.0111937510858489,\n        \"min\": -2.0527651010217336,\n        \"max\": 2.632230963300402,\n        \"num_unique_values\": 1488,\n        \"samples\": [\n          -0.7192462901354046,\n          0.34201965558947656,\n          0.08416731583534952\n        ],\n        \"semantic_type\": \"\",\n        \"description\": \"\"\n      }\n    },\n    {\n      \"column\": \"tmax\",\n      \"properties\": {\n        \"dtype\": \"number\",\n        \"std\": 0.9661630276035014,\n        \"min\": -2.4233460510680604,\n        \"max\": 2.0457160762119786,\n        \"num_unique_values\": 1238,\n        \"samples\": [\n          0.4259540220076558,\n          0.3566441568511988,\n          1.1370922275170565\n        ],\n        \"semantic_type\": \"\",\n        \"description\": \"\"\n      }\n    },\n    {\n      \"column\": \"tmin\",\n      \"properties\": {\n        \"dtype\": \"number\",\n        \"std\": 0.9909029826740436,\n        \"min\": -2.9568157041619427,\n        \"max\": 1.880048604203965,\n        \"num_unique_values\": 1207,\n        \"samples\": [\n          -0.8163642573563401,\n          1.2287795183484567,\n          1.3201160364867293\n        ],\n        \"semantic_type\": \"\",\n        \"description\": \"\"\n      }\n    },\n    {\n      \"column\": \"vp\",\n      \"properties\": {\n        \"dtype\": \"number\",\n        \"std\": 1.054346850874536,\n        \"min\": -1.533260132353689,\n        \"max\": 3.0914529392845527,\n        \"num_unique_values\": 1415,\n        \"samples\": [\n          0.3662970300367603,\n          2.0026441518100095,\n          0.39945944682736323\n        ],\n        \"semantic_type\": \"\",\n        \"description\": \"\"\n      }\n    },\n    {\n      \"column\": \"q\",\n      \"properties\": {\n        \"dtype\": \"number\",\n        \"std\": 1.1694751498483325,\n        \"min\": -0.7618707710529498,\n        \"max\": 9.941437186676563,\n        \"num_unique_values\": 492,\n        \"samples\": [\n          1.4132228037229968,\n          0.3172779716447689,\n          2.11026051301413\n        ],\n        \"semantic_type\": \"\",\n        \"description\": \"\"\n      }\n    },\n    {\n      \"column\": \"average_pr\",\n      \"properties\": {\n        \"dtype\": \"number\",\n        \"std\": 9.97795794033314e-18,\n        \"min\": 0.0007288204583484221,\n        \"max\": 0.0007288204583484221,\n        \"num_unique_values\": 1,\n        \"samples\": [\n          0.0007288204583484221\n        ],\n        \"semantic_type\": \"\",\n        \"description\": \"\"\n      }\n    },\n    {\n      \"column\": \"average_q\",\n      \"properties\": {\n        \"dtype\": \"number\",\n        \"std\": 7.80883664895637e-18,\n        \"min\": -0.003809301595634419,\n        \"max\": -0.003809301595634419,\n        \"num_unique_values\": 1,\n        \"samples\": [\n          -0.003809301595634419\n        ],\n        \"semantic_type\": \"\",\n        \"description\": \"\"\n      }\n    },\n    {\n      \"column\": \"average_tmax\",\n      \"properties\": {\n        \"dtype\": \"number\",\n        \"std\": 1.4923554484672174e-16,\n        \"min\": 0.006756362627392129,\n        \"max\": 0.006756362627392129,\n        \"num_unique_values\": 1,\n        \"samples\": [\n          0.006756362627392129\n        ],\n        \"semantic_type\": \"\",\n        \"description\": \"\"\n      }\n    },\n    {\n      \"column\": \"average_tmin\",\n      \"properties\": {\n        \"dtype\": \"number\",\n        \"std\": 4.121330453615862e-17,\n        \"min\": 0.0024568591372335015,\n        \"max\": 0.0024568591372335015,\n        \"num_unique_values\": 1,\n        \"samples\": [\n          0.0024568591372335015\n        ],\n        \"semantic_type\": \"\",\n        \"description\": \"\"\n      }\n    },\n    {\n      \"column\": \"basin_id\",\n      \"properties\": {\n        \"dtype\": \"number\",\n        \"std\": 0,\n        \"min\": 0,\n        \"max\": 0,\n        \"num_unique_values\": 1,\n        \"samples\": [\n          0\n        ],\n        \"semantic_type\": \"\",\n        \"description\": \"\"\n      }\n    }\n  ]\n}"
            }
          },
          "metadata": {},
          "execution_count": 5
        }
      ]
    },
    {
      "cell_type": "markdown",
      "source": [
        "#Error Metrics"
      ],
      "metadata": {
        "id": "vEAFWWq3x9iZ"
      }
    },
    {
      "cell_type": "code",
      "execution_count": 6,
      "metadata": {
        "id": "Utebyb-tLbWe"
      },
      "outputs": [],
      "source": [
        "def nash_sutcliffe_error(Q_obs,Q_sim):\n",
        "    \"\"\"\n",
        "    Written by: SJ\n",
        "    Q_obs: observed discharge; 1D vector\n",
        "    Q_sim: simulated discharge; 1D vector\n",
        "    This function calculates the NSE between observed and simulated discharges\n",
        "    returns: NSE; float\n",
        "    \"\"\"\n",
        "    if len(Q_sim)!=len(Q_obs):\n",
        "        print('Length of simulated and observed discharges do not match')\n",
        "        return\n",
        "    else:\n",
        "        num=np.sum(np.square(Q_sim-Q_obs))\n",
        "        den=np.sum(np.square(Q_obs-np.mean(Q_obs)))\n",
        "        NSE=1-(num/den)\n",
        "        return NSE\n",
        "\n",
        "def CC(Pr,Y):\n",
        "    from scipy import stats\n",
        "    Pr=np.reshape(Pr,(-1,1))\n",
        "    Y=np.reshape(Y,(-1,1))\n",
        "    return stats.pearsonr(Pr.flatten(),Y.flatten())[0]\n",
        "def KGE(prediction,observation):\n",
        "\n",
        "    nas = np.logical_or(np.isnan(prediction), np.isnan(observation))\n",
        "    pred=np.copy(np.reshape(prediction,(-1,1)))\n",
        "    obs=np.copy(np.reshape(observation,(-1,1)))\n",
        "    r=CC(pred[~nas],obs[~nas])\n",
        "    beta=np.nanmean(pred)/np.nanmean(obs)\n",
        "    gamma=(np.nanstd(pred)/np.nanstd(obs))/beta\n",
        "    kge=1-((r-1)**2+(beta-1)**2+(gamma-1)**2)**0.5\n",
        "    return kge"
      ]
    },
    {
      "cell_type": "markdown",
      "source": [
        "# Reshaping input data to 3D"
      ],
      "metadata": {
        "id": "RatM1E0b-Rxm"
      }
    },
    {
      "cell_type": "code",
      "source": [
        "def split_sequence_multi_train(sequence_x,sequence_y, n_steps_in, n_steps_out,mode='seq'):\n",
        "    \"\"\"\n",
        "    written by:SJ\n",
        "    sequence_x=features; 2D array\n",
        "    sequence_y=target; 2D array\n",
        "    n_steps_in=IL(lookbak period);int\n",
        "    n_steps_out=forecast horizon;int\n",
        "    mode:either single (many to one) or seq (many to many).\n",
        "    This function creates an output in shape of (sample,IL,feature) for x and\n",
        "    (sample,n_steps_out) for y\n",
        "    \"\"\"\n",
        "    X, y = list(), list()\n",
        "    k=0\n",
        "    sequence_x=np.copy(np.asarray(sequence_x))\n",
        "    sequence_y=np.copy(np.asarray(sequence_y))\n",
        "    for _ in range(len(sequence_x)):\n",
        "\t\t# find the end of this pattern\n",
        "        end_ix = k + n_steps_in\n",
        "        out_end_ix = end_ix + n_steps_out\n",
        "\t\t# check if we are beyond the sequence\n",
        "        if out_end_ix > len(sequence_x):\n",
        "            break\n",
        "\t\t# gather input and output parts of the pattern\n",
        "        seq_x = sequence_x[k:end_ix]\n",
        "        #mode single is used for one output\n",
        "        if n_steps_out==0:\n",
        "            seq_y= sequence_y[end_ix-1:out_end_ix]\n",
        "        elif mode=='single':\n",
        "            seq_y= sequence_y[out_end_ix-1]\n",
        "        else:\n",
        "            seq_y= sequence_y[end_ix:out_end_ix]\n",
        "        X.append(seq_x)\n",
        "        y.append(seq_y.flatten())\n",
        "        k=k+1\n",
        "\n",
        "    XX,YY= np.asarray(X), np.asarray(y)\n",
        "    if (n_steps_out==0 or n_steps_out==1):\n",
        "        YY=YY.reshape((len(XX),1))\n",
        "    return XX,YY"
      ],
      "metadata": {
        "id": "7fOO074V-QuL"
      },
      "execution_count": 7,
      "outputs": []
    },
    {
      "cell_type": "code",
      "source": [
        "ii=0\n",
        "temp_x=np.asarray(df_tr[df['basin_id']==ii].loc[:, ['pr', 'srad', 'tmax', 'tmin', 'vp', 'average_pr',\n",
        "           'average_q', 'average_tmax', 'average_tmin']])\n",
        "temp_y=np.asarray(df_tr[df['basin_id']==ii]['q']).reshape((-1,1))\n",
        "xx,yy=split_sequence_multi_train(temp_x,temp_y,365,0,mode='seq')\n",
        "\n",
        "\n",
        "\n",
        "x_train=xx[:int(0.9*len(xx))]\n",
        "y_train=yy[:int(0.9*len(xx))]\n",
        "\n",
        "x_val=xx[int(0.9*len(xx)):]\n",
        "y_val=yy[int(0.9*len(xx)):]"
      ],
      "metadata": {
        "id": "-h50f-9XyfEt"
      },
      "execution_count": 8,
      "outputs": []
    },
    {
      "cell_type": "markdown",
      "source": [
        "#Define the model"
      ],
      "metadata": {
        "id": "yRDRM2AT_Omi"
      }
    },
    {
      "cell_type": "markdown",
      "source": [
        "## Define the KAN DL"
      ],
      "metadata": {
        "id": "1-1PCoyvoYVx"
      }
    },
    {
      "cell_type": "code",
      "source": [
        "inputs = tf.keras.layers.Input(shape=(365, 9))\n",
        "x_ = tf.keras.layers.LSTM(128, return_sequences=False)(inputs)\n",
        "x_.trainable=True\n",
        "x=tf.keras.layers.Dropout(0.1)(x_)\n",
        "outputs = tf.keras.layers.Dense(1,activation='linear')(x)\n",
        "modeli = tf.keras.Model(inputs, outputs)\n",
        "modeli.compile(optimizer=tf.optimizers.Adam(learning_rate=1e-3), loss=\"mse\")\n",
        "#load pre-trained model weights\n",
        "modeli.load_weights('Final_sim2_0.h5')\n",
        "nn_without_head = tf.keras.models.Model(inputs=modeli.inputs, outputs=x)\n",
        "nn_without_head.trainable=True\n",
        "# The deterministic approach\n",
        "dense_kan=tf.keras.layers.TimeDistributed(tfkan.layers.DenseKAN(1))(nn_without_head.input)\n",
        "dense_kan=tf.keras.layers.Flatten()(dense_kan)\n",
        "concat_layer=tf.keras.layers.Concatenate()([dense_kan,nn_without_head.output])\n",
        "dense_layer=tf.keras.layers.Dense(1)(concat_layer)\n",
        "model_KAN = tf.keras.models.Model(inputs=nn_without_head.input, outputs=dense_layer)\n",
        "model_KAN.compile(optimizer=tf.optimizers.Adam(learning_rate=1e-3), loss='mse')\n",
        "# Print the new model summary to verify\n",
        "model_KAN.summary()"
      ],
      "metadata": {
        "colab": {
          "base_uri": "https://localhost:8080/"
        },
        "collapsed": true,
        "id": "EbmQUJNK_UkE",
        "outputId": "48852194-c09f-434b-ca25-5e50d8dd1853"
      },
      "execution_count": 17,
      "outputs": [
        {
          "output_type": "stream",
          "name": "stdout",
          "text": [
            "Model: \"model_13\"\n",
            "__________________________________________________________________________________________________\n",
            " Layer (type)                Output Shape                 Param #   Connected to                  \n",
            "==================================================================================================\n",
            " input_5 (InputLayer)        [(None, 365, 9)]             0         []                            \n",
            "                                                                                                  \n",
            " time_distributed_4 (TimeDi  (None, 365, 1)               190       ['input_5[0][0]']             \n",
            " stributed)                                                                                       \n",
            "                                                                                                  \n",
            " lstm_4 (LSTM)               (None, 128)                  70656     ['input_5[0][0]']             \n",
            "                                                                                                  \n",
            " flatten_3 (Flatten)         (None, 365)                  0         ['time_distributed_4[0][0]']  \n",
            "                                                                                                  \n",
            " dropout_4 (Dropout)         (None, 128)                  0         ['lstm_4[0][0]']              \n",
            "                                                                                                  \n",
            " concatenate_4 (Concatenate  (None, 493)                  0         ['flatten_3[0][0]',           \n",
            " )                                                                   'dropout_4[0][0]']           \n",
            "                                                                                                  \n",
            " dense_8 (Dense)             (None, 1)                    494       ['concatenate_4[0][0]']       \n",
            "                                                                                                  \n",
            "==================================================================================================\n",
            "Total params: 71340 (278.67 KB)\n",
            "Trainable params: 71232 (278.25 KB)\n",
            "Non-trainable params: 108 (432.00 Byte)\n",
            "__________________________________________________________________________________________________\n"
          ]
        }
      ]
    },
    {
      "cell_type": "code",
      "source": [
        "early_call  = tf.keras.callbacks.EarlyStopping(monitor='val_loss', patience=10)\n",
        "reduce_callback = tf.keras.callbacks.ReduceLROnPlateau(monitor='val_loss', factor=0.1, patience=5)\n",
        "model_KAN.fit(x=x_train,y=y_train,epochs=100,validation_data=(x_val,y_val),callbacks=[early_call,reduce_callback])"
      ],
      "metadata": {
        "id": "kKjY3v8qvKgk",
        "colab": {
          "base_uri": "https://localhost:8080/"
        },
        "outputId": "9bd1fcbc-6822-4407-98fe-3feb6f17f251"
      },
      "execution_count": 18,
      "outputs": [
        {
          "output_type": "stream",
          "name": "stdout",
          "text": [
            "Epoch 1/100\n",
            "231/231 [==============================] - 7s 20ms/step - loss: 0.5982 - val_loss: 0.4811 - lr: 0.0010\n",
            "Epoch 2/100\n",
            "231/231 [==============================] - 5s 22ms/step - loss: 0.2097 - val_loss: 0.3324 - lr: 0.0010\n",
            "Epoch 3/100\n",
            "231/231 [==============================] - 4s 17ms/step - loss: 0.1198 - val_loss: 0.2937 - lr: 0.0010\n",
            "Epoch 4/100\n",
            "231/231 [==============================] - 4s 16ms/step - loss: 0.0916 - val_loss: 0.2500 - lr: 0.0010\n",
            "Epoch 5/100\n",
            "231/231 [==============================] - 5s 20ms/step - loss: 0.0776 - val_loss: 0.2141 - lr: 0.0010\n",
            "Epoch 6/100\n",
            "231/231 [==============================] - 6s 25ms/step - loss: 0.0670 - val_loss: 0.2690 - lr: 0.0010\n",
            "Epoch 7/100\n",
            "231/231 [==============================] - 4s 17ms/step - loss: 0.0535 - val_loss: 0.3031 - lr: 0.0010\n",
            "Epoch 8/100\n",
            "231/231 [==============================] - 4s 19ms/step - loss: 0.0480 - val_loss: 0.2862 - lr: 0.0010\n",
            "Epoch 9/100\n",
            "231/231 [==============================] - 4s 19ms/step - loss: 0.0443 - val_loss: 0.2571 - lr: 0.0010\n",
            "Epoch 10/100\n",
            "231/231 [==============================] - 4s 16ms/step - loss: 0.0414 - val_loss: 0.2951 - lr: 0.0010\n",
            "Epoch 11/100\n",
            "231/231 [==============================] - 4s 17ms/step - loss: 0.0326 - val_loss: 0.2890 - lr: 1.0000e-04\n",
            "Epoch 12/100\n",
            "231/231 [==============================] - 6s 28ms/step - loss: 0.0293 - val_loss: 0.2715 - lr: 1.0000e-04\n",
            "Epoch 13/100\n",
            "231/231 [==============================] - 4s 16ms/step - loss: 0.0288 - val_loss: 0.2840 - lr: 1.0000e-04\n",
            "Epoch 14/100\n",
            "231/231 [==============================] - 4s 16ms/step - loss: 0.0274 - val_loss: 0.2724 - lr: 1.0000e-04\n",
            "Epoch 15/100\n",
            "231/231 [==============================] - 5s 22ms/step - loss: 0.0278 - val_loss: 0.2699 - lr: 1.0000e-04\n"
          ]
        },
        {
          "output_type": "execute_result",
          "data": {
            "text/plain": [
              "<keras.src.callbacks.History at 0x7b07de5369e0>"
            ]
          },
          "metadata": {},
          "execution_count": 18
        }
      ]
    },
    {
      "cell_type": "code",
      "source": [
        "ii=0\n",
        "temp_xx=np.asarray(df_test_tr[df_test_tr['basin_id']==ii].loc[:, ['pr', 'srad', 'tmax', 'tmin', 'vp', 'average_pr',\n",
        "            'average_q', 'average_tmax', 'average_tmin']])\n",
        "temp_yy=np.asarray(df_test_tr[df_test_tr['basin_id']==ii]['q']).reshape((-1,1))\n",
        "xx_,yy_=split_sequence_multi_train(temp_xx,temp_yy,365,0,mode='seq')"
      ],
      "metadata": {
        "id": "Gv0RBftiCtxY"
      },
      "execution_count": 19,
      "outputs": []
    },
    {
      "cell_type": "code",
      "source": [
        "#transform y_test\n",
        "y_test=yy_*std_q+mean_q\n",
        "plt.plot(y_test,c='b',label='obs')\n",
        "for ii in range(0,1):\n",
        "  pred_test=model_KAN.predict(xx_)\n",
        "  pred_test=pred_test*std_q+mean_q\n",
        "  plt.plot(pred_test,c='r',label='pred')\n",
        "\n",
        "  nse=nash_sutcliffe_error(y_test,pred_test)\n",
        "  kge=KGE(pred_test,y_test)\n",
        "  plt.title('NSE:%1.2f'%(nse)+ '-KGE:%1.2f'%(kge))\n",
        "  plt.legend()\n",
        "\n",
        "  plt.xlabel('Sample')\n",
        "  plt.ylabel('Specific Discharge [-]')"
      ],
      "metadata": {
        "id": "1V9yhtMGeAvt",
        "outputId": "e7a66b16-b71f-4d69-ed52-020d873ea040",
        "colab": {
          "base_uri": "https://localhost:8080/",
          "height": 490
        }
      },
      "execution_count": 20,
      "outputs": [
        {
          "output_type": "stream",
          "name": "stdout",
          "text": [
            "36/36 [==============================] - 1s 10ms/step\n"
          ]
        },
        {
          "output_type": "display_data",
          "data": {
            "text/plain": [
              "<Figure size 640x480 with 1 Axes>"
            ],
            "image/png": "[encoded data removed]"
          },
          "metadata": {}
        }
      ]
    },
    {
      "cell_type": "code",
      "source": [
        "def nll(y_true,y_pred):\n",
        "  \"\"\"\n",
        "  Written by:SJ\n",
        "  Negative log likelihood\n",
        "  y_true:observation;2D array\n",
        "  y_pred:prediction;2D array\n",
        "  \"\"\"\n",
        "  return -y_pred.log_prob(y_true)"
      ],
      "metadata": {
        "id": "no9lLpKJwOjG"
      },
      "execution_count": null,
      "outputs": []
    },
    {
      "cell_type": "code",
      "source": [
        "from tensorflow_probability import distributions as tfd\n",
        "inputs = tf.keras.layers.Input(shape=(365, 9))\n",
        "x_ = tf.keras.layers.LSTM(128, return_sequences=False)(inputs)\n",
        "x_.trainable=True\n",
        "x=tf.keras.layers.Dropout(0.1)(x_)\n",
        "outputs = tf.keras.layers.Dense(1,activation='linear')(x)\n",
        "modeli = tf.keras.Model(inputs, outputs)\n",
        "modeli.compile(optimizer=tf.optimizers.Adam(learning_rate=1e-3), loss=\"mse\")\n",
        "#load pre-trained model weights\n",
        "modeli.load_weights('Final_sim2_0.h5')\n",
        "nn_without_head = tf.keras.models.Model(inputs=modeli.inputs, outputs=x)\n",
        "nn_without_head.trainable=True\n",
        "# The deterministic approach\n",
        "dense_layer=tfkan.layers.DenseKAN(15)(nn_without_head.output)\n",
        "dense_layer=tfp.layers.MixtureNormal(num_components=5,event_shape=1,convert_to_tensor_fn=tfd.Distribution.sample)(dense_layer)\n",
        "#dense_layer=tfkan.layers.DenseKAN(1)(dense_layer)\n",
        "model_KAN = tf.keras.models.Model(inputs=nn_without_head.input, outputs=dense_layer)\n",
        "model_KAN.compile(optimizer=tf.optimizers.Adam(learning_rate=1e-3), loss='mse')\n",
        "# Print the new model summary to verify\n",
        "model_KAN.summary()"
      ],
      "metadata": {
        "id": "5lrfnjEclqhv",
        "outputId": "c834d6aa-e7ce-4932-b656-b05e108a64c5",
        "colab": {
          "base_uri": "https://localhost:8080/"
        }
      },
      "execution_count": null,
      "outputs": [
        {
          "output_type": "stream",
          "name": "stdout",
          "text": [
            "Model: \"model_42\"\n",
            "_________________________________________________________________\n",
            " Layer (type)                Output Shape              Param #   \n",
            "=================================================================\n",
            " input_15 (InputLayer)       [(None, 365, 9)]          0         \n",
            "                                                                 \n",
            " lstm_14 (LSTM)              (None, 128)               70656     \n",
            "                                                                 \n",
            " dropout_14 (Dropout)        (None, 128)               0         \n",
            "                                                                 \n",
            " dense_kan_17 (DenseKAN)     (None, 15)                18831     \n",
            "                                                                 \n",
            " mixture_normal_3 (MixtureN  ((None, 1),               0         \n",
            " ormal)                       (None, 1))                         \n",
            "                                                                 \n",
            "=================================================================\n",
            "Total params: 89487 (349.56 KB)\n",
            "Trainable params: 87951 (343.56 KB)\n",
            "Non-trainable params: 1536 (6.00 KB)\n",
            "_________________________________________________________________\n"
          ]
        }
      ]
    },
    {
      "cell_type": "code",
      "source": [
        "early_call  = tf.keras.callbacks.EarlyStopping(monitor='val_loss', patience=10)\n",
        "reduce_callback = tf.keras.callbacks.ReduceLROnPlateau(monitor='val_loss', factor=0.1, patience=5)\n",
        "model_KAN.fit(x=x_train,y=y_train,epochs=100,validation_data=(x_val,y_val),callbacks=[early_call,reduce_callback])"
      ],
      "metadata": {
        "id": "cz70i6AgmJ0G",
        "outputId": "4f8f85bf-8024-4d47-a476-5dfacc9f3dc9",
        "colab": {
          "base_uri": "https://localhost:8080/"
        }
      },
      "execution_count": null,
      "outputs": [
        {
          "output_type": "stream",
          "name": "stdout",
          "text": [
            "Epoch 1/100\n",
            "231/231 [==============================] - 18s 57ms/step - loss: 0.4856 - val_loss: 0.5458 - lr: 0.0010\n",
            "Epoch 2/100\n",
            "231/231 [==============================] - 11s 47ms/step - loss: 0.1953 - val_loss: 0.3533 - lr: 0.0010\n",
            "Epoch 3/100\n",
            "231/231 [==============================] - 12s 54ms/step - loss: 0.1536 - val_loss: 0.2813 - lr: 0.0010\n",
            "Epoch 4/100\n",
            "231/231 [==============================] - 11s 49ms/step - loss: 0.1280 - val_loss: 0.2966 - lr: 0.0010\n",
            "Epoch 5/100\n",
            "231/231 [==============================] - 13s 57ms/step - loss: 0.1162 - val_loss: 0.2355 - lr: 0.0010\n",
            "Epoch 6/100\n",
            "231/231 [==============================] - 13s 57ms/step - loss: 0.0955 - val_loss: 0.2043 - lr: 0.0010\n",
            "Epoch 7/100\n",
            "231/231 [==============================] - 16s 68ms/step - loss: 0.0774 - val_loss: 0.2233 - lr: 0.0010\n",
            "Epoch 8/100\n",
            "231/231 [==============================] - 12s 50ms/step - loss: 0.0721 - val_loss: 0.2252 - lr: 0.0010\n",
            "Epoch 9/100\n",
            "231/231 [==============================] - 15s 64ms/step - loss: 0.0710 - val_loss: 0.2227 - lr: 0.0010\n",
            "Epoch 10/100\n",
            "231/231 [==============================] - 14s 60ms/step - loss: 0.0585 - val_loss: 0.2424 - lr: 0.0010\n",
            "Epoch 11/100\n",
            "231/231 [==============================] - 9s 37ms/step - loss: 0.0545 - val_loss: 0.1981 - lr: 0.0010\n",
            "Epoch 12/100\n",
            "231/231 [==============================] - 14s 59ms/step - loss: 0.0509 - val_loss: 0.2687 - lr: 0.0010\n",
            "Epoch 13/100\n",
            "231/231 [==============================] - 13s 55ms/step - loss: 0.0437 - val_loss: 0.2222 - lr: 0.0010\n",
            "Epoch 14/100\n",
            "231/231 [==============================] - 9s 39ms/step - loss: 0.0401 - val_loss: 0.2145 - lr: 0.0010\n",
            "Epoch 15/100\n",
            "231/231 [==============================] - 12s 52ms/step - loss: 0.0428 - val_loss: 0.2597 - lr: 0.0010\n",
            "Epoch 16/100\n",
            "231/231 [==============================] - 12s 52ms/step - loss: 0.0374 - val_loss: 0.2216 - lr: 0.0010\n",
            "Epoch 17/100\n",
            "231/231 [==============================] - 13s 56ms/step - loss: 0.0283 - val_loss: 0.2092 - lr: 1.0000e-04\n",
            "Epoch 18/100\n",
            "231/231 [==============================] - 14s 62ms/step - loss: 0.0251 - val_loss: 0.2173 - lr: 1.0000e-04\n",
            "Epoch 19/100\n",
            "231/231 [==============================] - 10s 44ms/step - loss: 0.0242 - val_loss: 0.2051 - lr: 1.0000e-04\n",
            "Epoch 20/100\n",
            "231/231 [==============================] - 13s 55ms/step - loss: 0.0236 - val_loss: 0.2096 - lr: 1.0000e-04\n",
            "Epoch 21/100\n",
            "231/231 [==============================] - 9s 41ms/step - loss: 0.0234 - val_loss: 0.2125 - lr: 1.0000e-04\n"
          ]
        },
        {
          "output_type": "execute_result",
          "data": {
            "text/plain": [
              "<keras.src.callbacks.History at 0x796638be0f70>"
            ]
          },
          "metadata": {},
          "execution_count": 74
        }
      ]
    },
    {
      "cell_type": "code",
      "source": [
        "#transform y_test\n",
        "y_test=yy_*std_q+mean_q\n",
        "plt.plot(y_test,c='b',label='obs')\n",
        "predictions=[]\n",
        "for ii in range(0,1):\n",
        "  pred_test=model_KAN(xx_)\n",
        "  m = pred_test.mean()\n",
        "  s = pred_test.stddev()\n",
        "\n",
        "  mean=m*std_q+mean_q\n",
        "  up=(m+2*s)*std_q+mean_q\n",
        "  down=(m-2*s)*std_q+mean_q\n",
        "  predictions.append(mean_)\n",
        "  plt.plot(mean, 'r', linewidth=4, label='mean');\n",
        "  plt.plot(up, 'g', linewidth=2, label=r'mean + 2 stddev');\n",
        "  plt.plot(down, 'g', linewidth=2, label=r'mean - 2 stddev');\n",
        "\n",
        "nse=nash_sutcliffe_error(y_test,mean)\n",
        "kge=KGE(mean,y_test)\n",
        "plt.title('NSE:%1.2f'%(nse)+ '-KGE:%1.2f'%(kge))\n",
        "plt.legend()\n",
        "\n",
        "plt.xlabel('Sample')\n",
        "plt.ylabel('Specific Discharge [-]')\n"
      ],
      "metadata": {
        "id": "zae5X3OhuNS6",
        "outputId": "a105239b-02c1-4e60-a5d3-0a655d6e4cf5",
        "colab": {
          "base_uri": "https://localhost:8080/",
          "height": 490
        }
      },
      "execution_count": null,
      "outputs": [
        {
          "output_type": "execute_result",
          "data": {
            "text/plain": [
              "Text(0, 0.5, 'Specific Discharge [-]')"
            ]
          },
          "metadata": {},
          "execution_count": 75
        },
        {
          "output_type": "display_data",
          "data": {
            "text/plain": [
              "<Figure size 640x480 with 1 Axes>"
            ],
            "image/png": "[encoded data removed]"
          },
          "metadata": {}
        }
      ]
    },
    {
      "cell_type": "code",
      "source": [
        "print(up)"
      ],
      "metadata": {
        "id": "BRTvKBUzBNHZ",
        "outputId": "6bf1a2eb-b8c8-4f7f-ebbe-8bbcbc6ed497",
        "colab": {
          "base_uri": "https://localhost:8080/"
        }
      },
      "execution_count": null,
      "outputs": [
        {
          "output_type": "stream",
          "name": "stdout",
          "text": [
            "tf.Tensor(\n",
            "[[1.8280466 ]\n",
            " [1.6576927 ]\n",
            " [1.6988785 ]\n",
            " ...\n",
            " [0.96624315]\n",
            " [1.0988054 ]\n",
            " [0.9170017 ]], shape=(1149, 1), dtype=float32)\n"
          ]
        }
      ]
    },
    {
      "cell_type": "code",
      "source": [
        "print(mean)"
      ],
      "metadata": {
        "id": "XDLXVkhaBPTd",
        "outputId": "a1cbe69a-a04b-4b3d-f66e-3118c3c5d9f8",
        "colab": {
          "base_uri": "https://localhost:8080/"
        }
      },
      "execution_count": null,
      "outputs": [
        {
          "output_type": "stream",
          "name": "stdout",
          "text": [
            "tf.Tensor(\n",
            "[[1.7374855 ]\n",
            " [1.5427557 ]\n",
            " [1.5757916 ]\n",
            " ...\n",
            " [0.92250216]\n",
            " [1.040647  ]\n",
            " [0.86896944]], shape=(1149, 1), dtype=float32)\n"
          ]
        }
      ]
    },
    {
      "cell_type": "code",
      "source": [
        "predictions_mean=np.nanmean(pred_test,axis=1)"
      ],
      "metadata": {
        "id": "SPXUhJfVvk4z"
      },
      "execution_count": null,
      "outputs": []
    },
    {
      "cell_type": "code",
      "source": [],
      "metadata": {
        "id": "rVw9FXKuuyVs"
      },
      "execution_count": null,
      "outputs": []
    },
    {
      "cell_type": "code",
      "source": [],
      "metadata": {
        "id": "1jsSyI6euoge"
      },
      "execution_count": null,
      "outputs": []
    },
    {
      "cell_type": "code",
      "execution_count": null,
      "metadata": {
        "id": "caMLUNaFMIad",
        "colab": {
          "base_uri": "https://localhost:8080/"
        },
        "outputId": "2d6ffb75-577a-45b9-d447-61eec3b98832"
      },
      "outputs": [
        {
          "output_type": "stream",
          "name": "stdout",
          "text": [
            "\u001b[1m36/36\u001b[0m \u001b[32m━━━━━━━━━━━━━━━━━━━━\u001b[0m\u001b[37m\u001b[0m \u001b[1m1s\u001b[0m 11ms/step\n",
            "\u001b[1m36/36\u001b[0m \u001b[32m━━━━━━━━━━━━━━━━━━━━\u001b[0m\u001b[37m\u001b[0m \u001b[1m0s\u001b[0m 6ms/step\n",
            "\u001b[1m36/36\u001b[0m \u001b[32m━━━━━━━━━━━━━━━━━━━━\u001b[0m\u001b[37m\u001b[0m \u001b[1m0s\u001b[0m 9ms/step\n",
            "\u001b[1m36/36\u001b[0m \u001b[32m━━━━━━━━━━━━━━━━━━━━\u001b[0m\u001b[37m\u001b[0m \u001b[1m0s\u001b[0m 8ms/step\n",
            "\u001b[1m36/36\u001b[0m \u001b[32m━━━━━━━━━━━━━━━━━━━━\u001b[0m\u001b[37m\u001b[0m \u001b[1m0s\u001b[0m 8ms/step\n",
            "\u001b[1m36/36\u001b[0m \u001b[32m━━━━━━━━━━━━━━━━━━━━\u001b[0m\u001b[37m\u001b[0m \u001b[1m0s\u001b[0m 8ms/step\n",
            "\u001b[1m36/36\u001b[0m \u001b[32m━━━━━━━━━━━━━━━━━━━━\u001b[0m\u001b[37m\u001b[0m \u001b[1m0s\u001b[0m 6ms/step\n",
            "\u001b[1m36/36\u001b[0m \u001b[32m━━━━━━━━━━━━━━━━━━━━\u001b[0m\u001b[37m\u001b[0m \u001b[1m0s\u001b[0m 6ms/step\n",
            "\u001b[1m36/36\u001b[0m \u001b[32m━━━━━━━━━━━━━━━━━━━━\u001b[0m\u001b[37m\u001b[0m \u001b[1m0s\u001b[0m 6ms/step\n",
            "\u001b[1m36/36\u001b[0m \u001b[32m━━━━━━━━━━━━━━━━━━━━\u001b[0m\u001b[37m\u001b[0m \u001b[1m0s\u001b[0m 6ms/step\n",
            "\u001b[1m36/36\u001b[0m \u001b[32m━━━━━━━━━━━━━━━━━━━━\u001b[0m\u001b[37m\u001b[0m \u001b[1m0s\u001b[0m 6ms/step\n",
            "\u001b[1m36/36\u001b[0m \u001b[32m━━━━━━━━━━━━━━━━━━━━\u001b[0m\u001b[37m\u001b[0m \u001b[1m0s\u001b[0m 6ms/step\n",
            "\u001b[1m36/36\u001b[0m \u001b[32m━━━━━━━━━━━━━━━━━━━━\u001b[0m\u001b[37m\u001b[0m \u001b[1m0s\u001b[0m 7ms/step\n",
            "\u001b[1m36/36\u001b[0m \u001b[32m━━━━━━━━━━━━━━━━━━━━\u001b[0m\u001b[37m\u001b[0m \u001b[1m0s\u001b[0m 6ms/step\n",
            "\u001b[1m36/36\u001b[0m \u001b[32m━━━━━━━━━━━━━━━━━━━━\u001b[0m\u001b[37m\u001b[0m \u001b[1m0s\u001b[0m 6ms/step\n",
            "\u001b[1m36/36\u001b[0m \u001b[32m━━━━━━━━━━━━━━━━━━━━\u001b[0m\u001b[37m\u001b[0m \u001b[1m0s\u001b[0m 6ms/step\n",
            "\u001b[1m36/36\u001b[0m \u001b[32m━━━━━━━━━━━━━━━━━━━━\u001b[0m\u001b[37m\u001b[0m \u001b[1m0s\u001b[0m 6ms/step\n",
            "\u001b[1m36/36\u001b[0m \u001b[32m━━━━━━━━━━━━━━━━━━━━\u001b[0m\u001b[37m\u001b[0m \u001b[1m0s\u001b[0m 6ms/step\n",
            "\u001b[1m36/36\u001b[0m \u001b[32m━━━━━━━━━━━━━━━━━━━━\u001b[0m\u001b[37m\u001b[0m \u001b[1m0s\u001b[0m 6ms/step\n",
            "\u001b[1m36/36\u001b[0m \u001b[32m━━━━━━━━━━━━━━━━━━━━\u001b[0m\u001b[37m\u001b[0m \u001b[1m0s\u001b[0m 6ms/step\n",
            "\u001b[1m36/36\u001b[0m \u001b[32m━━━━━━━━━━━━━━━━━━━━\u001b[0m\u001b[37m\u001b[0m \u001b[1m0s\u001b[0m 6ms/step\n",
            "\u001b[1m36/36\u001b[0m \u001b[32m━━━━━━━━━━━━━━━━━━━━\u001b[0m\u001b[37m\u001b[0m \u001b[1m0s\u001b[0m 7ms/step\n",
            "\u001b[1m36/36\u001b[0m \u001b[32m━━━━━━━━━━━━━━━━━━━━\u001b[0m\u001b[37m\u001b[0m \u001b[1m0s\u001b[0m 6ms/step\n",
            "\u001b[1m36/36\u001b[0m \u001b[32m━━━━━━━━━━━━━━━━━━━━\u001b[0m\u001b[37m\u001b[0m \u001b[1m0s\u001b[0m 6ms/step\n",
            "\u001b[1m36/36\u001b[0m \u001b[32m━━━━━━━━━━━━━━━━━━━━\u001b[0m\u001b[37m\u001b[0m \u001b[1m0s\u001b[0m 6ms/step\n",
            "\u001b[1m36/36\u001b[0m \u001b[32m━━━━━━━━━━━━━━━━━━━━\u001b[0m\u001b[37m\u001b[0m \u001b[1m0s\u001b[0m 6ms/step\n",
            "\u001b[1m36/36\u001b[0m \u001b[32m━━━━━━━━━━━━━━━━━━━━\u001b[0m\u001b[37m\u001b[0m \u001b[1m0s\u001b[0m 6ms/step\n",
            "\u001b[1m36/36\u001b[0m \u001b[32m━━━━━━━━━━━━━━━━━━━━\u001b[0m\u001b[37m\u001b[0m \u001b[1m0s\u001b[0m 6ms/step\n",
            "\u001b[1m36/36\u001b[0m \u001b[32m━━━━━━━━━━━━━━━━━━━━\u001b[0m\u001b[37m\u001b[0m \u001b[1m0s\u001b[0m 6ms/step\n",
            "\u001b[1m36/36\u001b[0m \u001b[32m━━━━━━━━━━━━━━━━━━━━\u001b[0m\u001b[37m\u001b[0m \u001b[1m0s\u001b[0m 6ms/step\n",
            "\u001b[1m36/36\u001b[0m \u001b[32m━━━━━━━━━━━━━━━━━━━━\u001b[0m\u001b[37m\u001b[0m \u001b[1m0s\u001b[0m 6ms/step\n",
            "\u001b[1m36/36\u001b[0m \u001b[32m━━━━━━━━━━━━━━━━━━━━\u001b[0m\u001b[37m\u001b[0m \u001b[1m0s\u001b[0m 6ms/step\n",
            "\u001b[1m36/36\u001b[0m \u001b[32m━━━━━━━━━━━━━━━━━━━━\u001b[0m\u001b[37m\u001b[0m \u001b[1m0s\u001b[0m 6ms/step\n",
            "\u001b[1m36/36\u001b[0m \u001b[32m━━━━━━━━━━━━━━━━━━━━\u001b[0m\u001b[37m\u001b[0m \u001b[1m0s\u001b[0m 9ms/step\n",
            "\u001b[1m36/36\u001b[0m \u001b[32m━━━━━━━━━━━━━━━━━━━━\u001b[0m\u001b[37m\u001b[0m \u001b[1m0s\u001b[0m 8ms/step\n",
            "\u001b[1m36/36\u001b[0m \u001b[32m━━━━━━━━━━━━━━━━━━━━\u001b[0m\u001b[37m\u001b[0m \u001b[1m0s\u001b[0m 8ms/step\n",
            "\u001b[1m36/36\u001b[0m \u001b[32m━━━━━━━━━━━━━━━━━━━━\u001b[0m\u001b[37m\u001b[0m \u001b[1m0s\u001b[0m 9ms/step\n",
            "\u001b[1m36/36\u001b[0m \u001b[32m━━━━━━━━━━━━━━━━━━━━\u001b[0m\u001b[37m\u001b[0m \u001b[1m0s\u001b[0m 9ms/step\n",
            "\u001b[1m36/36\u001b[0m \u001b[32m━━━━━━━━━━━━━━━━━━━━\u001b[0m\u001b[37m\u001b[0m \u001b[1m0s\u001b[0m 6ms/step\n",
            "\u001b[1m36/36\u001b[0m \u001b[32m━━━━━━━━━━━━━━━━━━━━\u001b[0m\u001b[37m\u001b[0m \u001b[1m0s\u001b[0m 6ms/step\n",
            "\u001b[1m36/36\u001b[0m \u001b[32m━━━━━━━━━━━━━━━━━━━━\u001b[0m\u001b[37m\u001b[0m \u001b[1m0s\u001b[0m 6ms/step\n",
            "\u001b[1m36/36\u001b[0m \u001b[32m━━━━━━━━━━━━━━━━━━━━\u001b[0m\u001b[37m\u001b[0m \u001b[1m0s\u001b[0m 6ms/step\n",
            "\u001b[1m36/36\u001b[0m \u001b[32m━━━━━━━━━━━━━━━━━━━━\u001b[0m\u001b[37m\u001b[0m \u001b[1m0s\u001b[0m 6ms/step\n",
            "\u001b[1m36/36\u001b[0m \u001b[32m━━━━━━━━━━━━━━━━━━━━\u001b[0m\u001b[37m\u001b[0m \u001b[1m0s\u001b[0m 6ms/step\n",
            "\u001b[1m36/36\u001b[0m \u001b[32m━━━━━━━━━━━━━━━━━━━━\u001b[0m\u001b[37m\u001b[0m \u001b[1m0s\u001b[0m 6ms/step\n",
            "\u001b[1m36/36\u001b[0m \u001b[32m━━━━━━━━━━━━━━━━━━━━\u001b[0m\u001b[37m\u001b[0m \u001b[1m0s\u001b[0m 6ms/step\n",
            "\u001b[1m36/36\u001b[0m \u001b[32m━━━━━━━━━━━━━━━━━━━━\u001b[0m\u001b[37m\u001b[0m \u001b[1m0s\u001b[0m 6ms/step\n",
            "\u001b[1m36/36\u001b[0m \u001b[32m━━━━━━━━━━━━━━━━━━━━\u001b[0m\u001b[37m\u001b[0m \u001b[1m0s\u001b[0m 6ms/step\n",
            "\u001b[1m36/36\u001b[0m \u001b[32m━━━━━━━━━━━━━━━━━━━━\u001b[0m\u001b[37m\u001b[0m \u001b[1m0s\u001b[0m 6ms/step\n",
            "\u001b[1m36/36\u001b[0m \u001b[32m━━━━━━━━━━━━━━━━━━━━\u001b[0m\u001b[37m\u001b[0m \u001b[1m0s\u001b[0m 6ms/step\n",
            "\u001b[1m36/36\u001b[0m \u001b[32m━━━━━━━━━━━━━━━━━━━━\u001b[0m\u001b[37m\u001b[0m \u001b[1m0s\u001b[0m 6ms/step\n",
            "\u001b[1m36/36\u001b[0m \u001b[32m━━━━━━━━━━━━━━━━━━━━\u001b[0m\u001b[37m\u001b[0m \u001b[1m0s\u001b[0m 6ms/step\n",
            "\u001b[1m36/36\u001b[0m \u001b[32m━━━━━━━━━━━━━━━━━━━━\u001b[0m\u001b[37m\u001b[0m \u001b[1m0s\u001b[0m 6ms/step\n",
            "\u001b[1m36/36\u001b[0m \u001b[32m━━━━━━━━━━━━━━━━━━━━\u001b[0m\u001b[37m\u001b[0m \u001b[1m0s\u001b[0m 6ms/step\n",
            "\u001b[1m36/36\u001b[0m \u001b[32m━━━━━━━━━━━━━━━━━━━━\u001b[0m\u001b[37m\u001b[0m \u001b[1m0s\u001b[0m 6ms/step\n",
            "\u001b[1m36/36\u001b[0m \u001b[32m━━━━━━━━━━━━━━━━━━━━\u001b[0m\u001b[37m\u001b[0m \u001b[1m0s\u001b[0m 6ms/step\n",
            "\u001b[1m36/36\u001b[0m \u001b[32m━━━━━━━━━━━━━━━━━━━━\u001b[0m\u001b[37m\u001b[0m \u001b[1m0s\u001b[0m 6ms/step\n",
            "\u001b[1m36/36\u001b[0m \u001b[32m━━━━━━━━━━━━━━━━━━━━\u001b[0m\u001b[37m\u001b[0m \u001b[1m0s\u001b[0m 6ms/step\n",
            "\u001b[1m36/36\u001b[0m \u001b[32m━━━━━━━━━━━━━━━━━━━━\u001b[0m\u001b[37m\u001b[0m \u001b[1m0s\u001b[0m 6ms/step\n",
            "\u001b[1m36/36\u001b[0m \u001b[32m━━━━━━━━━━━━━━━━━━━━\u001b[0m\u001b[37m\u001b[0m \u001b[1m0s\u001b[0m 6ms/step\n",
            "\u001b[1m36/36\u001b[0m \u001b[32m━━━━━━━━━━━━━━━━━━━━\u001b[0m\u001b[37m\u001b[0m \u001b[1m0s\u001b[0m 6ms/step\n",
            "\u001b[1m36/36\u001b[0m \u001b[32m━━━━━━━━━━━━━━━━━━━━\u001b[0m\u001b[37m\u001b[0m \u001b[1m0s\u001b[0m 6ms/step\n",
            "\u001b[1m36/36\u001b[0m \u001b[32m━━━━━━━━━━━━━━━━━━━━\u001b[0m\u001b[37m\u001b[0m \u001b[1m0s\u001b[0m 6ms/step\n",
            "\u001b[1m36/36\u001b[0m \u001b[32m━━━━━━━━━━━━━━━━━━━━\u001b[0m\u001b[37m\u001b[0m \u001b[1m0s\u001b[0m 6ms/step\n",
            "\u001b[1m36/36\u001b[0m \u001b[32m━━━━━━━━━━━━━━━━━━━━\u001b[0m\u001b[37m\u001b[0m \u001b[1m0s\u001b[0m 6ms/step\n",
            "\u001b[1m36/36\u001b[0m \u001b[32m━━━━━━━━━━━━━━━━━━━━\u001b[0m\u001b[37m\u001b[0m \u001b[1m0s\u001b[0m 8ms/step\n",
            "\u001b[1m36/36\u001b[0m \u001b[32m━━━━━━━━━━━━━━━━━━━━\u001b[0m\u001b[37m\u001b[0m \u001b[1m0s\u001b[0m 8ms/step\n",
            "\u001b[1m36/36\u001b[0m \u001b[32m━━━━━━━━━━━━━━━━━━━━\u001b[0m\u001b[37m\u001b[0m \u001b[1m0s\u001b[0m 8ms/step\n",
            "\u001b[1m36/36\u001b[0m \u001b[32m━━━━━━━━━━━━━━━━━━━━\u001b[0m\u001b[37m\u001b[0m \u001b[1m0s\u001b[0m 9ms/step\n",
            "\u001b[1m36/36\u001b[0m \u001b[32m━━━━━━━━━━━━━━━━━━━━\u001b[0m\u001b[37m\u001b[0m \u001b[1m0s\u001b[0m 8ms/step\n",
            "\u001b[1m36/36\u001b[0m \u001b[32m━━━━━━━━━━━━━━━━━━━━\u001b[0m\u001b[37m\u001b[0m \u001b[1m0s\u001b[0m 6ms/step\n",
            "\u001b[1m36/36\u001b[0m \u001b[32m━━━━━━━━━━━━━━━━━━━━\u001b[0m\u001b[37m\u001b[0m \u001b[1m0s\u001b[0m 6ms/step\n",
            "\u001b[1m36/36\u001b[0m \u001b[32m━━━━━━━━━━━━━━━━━━━━\u001b[0m\u001b[37m\u001b[0m \u001b[1m0s\u001b[0m 6ms/step\n",
            "\u001b[1m36/36\u001b[0m \u001b[32m━━━━━━━━━━━━━━━━━━━━\u001b[0m\u001b[37m\u001b[0m \u001b[1m0s\u001b[0m 6ms/step\n",
            "\u001b[1m36/36\u001b[0m \u001b[32m━━━━━━━━━━━━━━━━━━━━\u001b[0m\u001b[37m\u001b[0m \u001b[1m0s\u001b[0m 6ms/step\n",
            "\u001b[1m36/36\u001b[0m \u001b[32m━━━━━━━━━━━━━━━━━━━━\u001b[0m\u001b[37m\u001b[0m \u001b[1m0s\u001b[0m 6ms/step\n",
            "\u001b[1m36/36\u001b[0m \u001b[32m━━━━━━━━━━━━━━━━━━━━\u001b[0m\u001b[37m\u001b[0m \u001b[1m0s\u001b[0m 6ms/step\n",
            "\u001b[1m36/36\u001b[0m \u001b[32m━━━━━━━━━━━━━━━━━━━━\u001b[0m\u001b[37m\u001b[0m \u001b[1m0s\u001b[0m 6ms/step\n",
            "\u001b[1m36/36\u001b[0m \u001b[32m━━━━━━━━━━━━━━━━━━━━\u001b[0m\u001b[37m\u001b[0m \u001b[1m0s\u001b[0m 6ms/step\n",
            "\u001b[1m36/36\u001b[0m \u001b[32m━━━━━━━━━━━━━━━━━━━━\u001b[0m\u001b[37m\u001b[0m \u001b[1m0s\u001b[0m 6ms/step\n",
            "\u001b[1m36/36\u001b[0m \u001b[32m━━━━━━━━━━━━━━━━━━━━\u001b[0m\u001b[37m\u001b[0m \u001b[1m0s\u001b[0m 6ms/step\n",
            "\u001b[1m36/36\u001b[0m \u001b[32m━━━━━━━━━━━━━━━━━━━━\u001b[0m\u001b[37m\u001b[0m \u001b[1m0s\u001b[0m 6ms/step\n",
            "\u001b[1m36/36\u001b[0m \u001b[32m━━━━━━━━━━━━━━━━━━━━\u001b[0m\u001b[37m\u001b[0m \u001b[1m0s\u001b[0m 6ms/step\n",
            "\u001b[1m36/36\u001b[0m \u001b[32m━━━━━━━━━━━━━━━━━━━━\u001b[0m\u001b[37m\u001b[0m \u001b[1m0s\u001b[0m 6ms/step\n",
            "\u001b[1m36/36\u001b[0m \u001b[32m━━━━━━━━━━━━━━━━━━━━\u001b[0m\u001b[37m\u001b[0m \u001b[1m0s\u001b[0m 6ms/step\n",
            "\u001b[1m36/36\u001b[0m \u001b[32m━━━━━━━━━━━━━━━━━━━━\u001b[0m\u001b[37m\u001b[0m \u001b[1m0s\u001b[0m 6ms/step\n",
            "\u001b[1m36/36\u001b[0m \u001b[32m━━━━━━━━━━━━━━━━━━━━\u001b[0m\u001b[37m\u001b[0m \u001b[1m0s\u001b[0m 6ms/step\n",
            "\u001b[1m36/36\u001b[0m \u001b[32m━━━━━━━━━━━━━━━━━━━━\u001b[0m\u001b[37m\u001b[0m \u001b[1m0s\u001b[0m 6ms/step\n",
            "\u001b[1m36/36\u001b[0m \u001b[32m━━━━━━━━━━━━━━━━━━━━\u001b[0m\u001b[37m\u001b[0m \u001b[1m0s\u001b[0m 7ms/step\n",
            "\u001b[1m36/36\u001b[0m \u001b[32m━━━━━━━━━━━━━━━━━━━━\u001b[0m\u001b[37m\u001b[0m \u001b[1m0s\u001b[0m 6ms/step\n",
            "\u001b[1m36/36\u001b[0m \u001b[32m━━━━━━━━━━━━━━━━━━━━\u001b[0m\u001b[37m\u001b[0m \u001b[1m0s\u001b[0m 6ms/step\n",
            "\u001b[1m36/36\u001b[0m \u001b[32m━━━━━━━━━━━━━━━━━━━━\u001b[0m\u001b[37m\u001b[0m \u001b[1m0s\u001b[0m 6ms/step\n",
            "\u001b[1m36/36\u001b[0m \u001b[32m━━━━━━━━━━━━━━━━━━━━\u001b[0m\u001b[37m\u001b[0m \u001b[1m0s\u001b[0m 6ms/step\n",
            "\u001b[1m36/36\u001b[0m \u001b[32m━━━━━━━━━━━━━━━━━━━━\u001b[0m\u001b[37m\u001b[0m \u001b[1m0s\u001b[0m 6ms/step\n",
            "\u001b[1m36/36\u001b[0m \u001b[32m━━━━━━━━━━━━━━━━━━━━\u001b[0m\u001b[37m\u001b[0m \u001b[1m0s\u001b[0m 6ms/step\n",
            "\u001b[1m36/36\u001b[0m \u001b[32m━━━━━━━━━━━━━━━━━━━━\u001b[0m\u001b[37m\u001b[0m \u001b[1m0s\u001b[0m 6ms/step\n",
            "\u001b[1m36/36\u001b[0m \u001b[32m━━━━━━━━━━━━━━━━━━━━\u001b[0m\u001b[37m\u001b[0m \u001b[1m0s\u001b[0m 8ms/step\n",
            "\u001b[1m36/36\u001b[0m \u001b[32m━━━━━━━━━━━━━━━━━━━━\u001b[0m\u001b[37m\u001b[0m \u001b[1m0s\u001b[0m 8ms/step\n",
            "\u001b[1m36/36\u001b[0m \u001b[32m━━━━━━━━━━━━━━━━━━━━\u001b[0m\u001b[37m\u001b[0m \u001b[1m0s\u001b[0m 8ms/step\n",
            "\u001b[1m36/36\u001b[0m \u001b[32m━━━━━━━━━━━━━━━━━━━━\u001b[0m\u001b[37m\u001b[0m \u001b[1m0s\u001b[0m 9ms/step\n"
          ]
        }
      ],
      "source": [
        "model_ema_trained=model.network\n",
        "list_=[]\n",
        "#%%\n",
        "#Sample from the model iteratively\n",
        "for ii in range(0,10):\n",
        "  samples= tf.random.normal(\n",
        "            shape=(len(xx_), 1), dtype=tf.float32)\n",
        "  for t in reversed(range(0, total_timesteps)):\n",
        "      tt = tf.cast(tf.fill(len(xx_), t), dtype=tf.int64)\n",
        "      pred_noise = model_ema_trained.predict(\n",
        "          [samples,xx_m_, tt,xx_])\n",
        "      samples = gdf_util.p_sample(\n",
        "                  pred_noise, samples, tt,xx_m_, clip_denoised=True)\n",
        "  list_.append(samples)\n"
      ]
    },
    {
      "cell_type": "code",
      "source": [
        "def RMSE(Pr,Y):\n",
        "    Pr=np.reshape(Pr,(-1,1))\n",
        "    Y=np.reshape(Y,(-1,1))\n",
        "    rmse=(np.nanmean(((Pr-Y)**2)))**0.5\n",
        "    return rmse\n",
        "def reliability_quantile(observation,up_percentile,low_percentile):\n",
        "    width=np.nanmean(up_percentile-low_percentile)\n",
        "    id_1=observation<=up_percentile\n",
        "    id_2=id_1[observation>=low_percentile]\n",
        "    total_id=id_2\n",
        "    temp_len=np.nansum(total_id)\n",
        "    return temp_len/len(observation)*100,width"
      ],
      "metadata": {
        "id": "D-26l3ovHj1h"
      },
      "execution_count": null,
      "outputs": []
    },
    {
      "cell_type": "code",
      "source": [
        "def nash(Q_obs,Q_sim):\n",
        "    \"\"\"\n",
        "    Written by: SJ\n",
        "    Q_obs: observed discharge; 1D vector\n",
        "    Q_sim: simulated discharge; 1D vector\n",
        "    This function calculates the NSE between observed and simulated discharges\n",
        "    returns: NSE; float\n",
        "    \"\"\"\n",
        "    if len(Q_sim)!=len(Q_obs):\n",
        "        print('Length of simulated and observed discharges do not match')\n",
        "        return\n",
        "    else:\n",
        "        num=np.sum(np.square(Q_sim-Q_obs))\n",
        "        den=np.sum(np.square(Q_obs-np.mean(Q_obs)))\n",
        "        NSE=1-(num/den)\n",
        "        return NSE"
      ],
      "metadata": {
        "id": "2VYwrm-4IgkB"
      },
      "execution_count": null,
      "outputs": []
    },
    {
      "cell_type": "code",
      "source": [
        "#%%\n",
        "array_total=np.asarray(list_)\n",
        "median=np.median(array_total,axis=0)\n",
        "up=np.percentile(array_total,95,axis=0)\n",
        "down=np.percentile(array_total,5,axis=0)\n",
        "samples_array=np.asarray(median)\n",
        "\n",
        "\n",
        "\n",
        "target=yy_*std_q+mean_q\n",
        "pred_=median*std_q+mean_q\n",
        "pred_low=down*std_q+mean_q\n",
        "pred_up=up*std_q+mean_q\n",
        "\n",
        "\n",
        "\n",
        "\n",
        "\n",
        "picp,width=reliability_quantile(target,pred_up,pred_low)\n",
        "nse_pred=nash(target,pred_)\n",
        "\n",
        "\n",
        "#%%\n",
        "plt.plot(pred_,'k',zorder=4,label='Diff pred')\n",
        "plt.plot(target,'b',zorder=3,label='obs')\n",
        "#plt.plot(mean_,'green',zorder=2)\n",
        "plt.fill_between(np.arange(len(pred_)),pred_low.ravel(),pred_up.ravel(),color='r',alpha=0.4,zorder=1)\n",
        "plt.title('PICP:%1.2f;'%(picp)+ 'NSE:%1.2f'%(nse_pred))\n",
        "plt.legend()"
      ],
      "metadata": {
        "colab": {
          "base_uri": "https://localhost:8080/",
          "height": 470
        },
        "id": "BAvIHylnHpDg",
        "outputId": "8c1b6509-da81-4970-afd7-954164b31e7f"
      },
      "execution_count": null,
      "outputs": [
        {
          "output_type": "execute_result",
          "data": {
            "text/plain": [
              "<matplotlib.legend.Legend at 0x7f53d4ae62c0>"
            ]
          },
          "metadata": {},
          "execution_count": 190
        },
        {
          "output_type": "display_data",
          "data": {
            "text/plain": [
              "<Figure size 640x480 with 1 Axes>"
            ],
            "image/png": "[encoded data removed]"
          },
          "metadata": {}
        }
      ]
    }
  ],
  "metadata": {
    "accelerator": "GPU",
    "colab": {
      "gpuType": "T4",
      "provenance": [],
      "authorship_tag": "ABX9TyOellKWwK5gtnSnJc2z4KLd",
      "include_colab_link": true
    },
    "kernelspec": {
      "display_name": "Python 3",
      "name": "python3"
    },
    "language_info": {
      "name": "python"
    }
  },
  "nbformat": 4,
  "nbformat_minor": 0
}